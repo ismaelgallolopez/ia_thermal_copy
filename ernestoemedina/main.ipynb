{
 "cells": [
  {
   "cell_type": "markdown",
   "metadata": {},
   "source": [
    "Este archivo principal une todos los módulos y ejecuta el entrenamiento, validación y evaluación del modelo GCN."
   ]
  },
  {
   "cell_type": "code",
   "execution_count": 2,
   "metadata": {},
   "outputs": [],
   "source": [
    "\n",
    "#Importamos los modulos necesarios\n",
    "\n",
    "import torch\n",
    "import numpy as np\n",
    "from torch_geometric.loader import DataLoader\n",
    "from Dataset_loader import PCBDataset  # Asegúrate que Dataset_loader se encuentra en el mismo directorio\n",
    "from gcn_model import GCN\n",
    "from data_loader import load_pcb_dataset\n",
    "from train_eval import train, evaluate, plot_temperature_maps, standardize_data\n",
    "from model_saver import save_model\n",
    "import os"
   ]
  },
  {
   "cell_type": "code",
   "execution_count": null,
   "metadata": {},
   "outputs": [
    {
     "name": "stdout",
     "output_type": "stream",
     "text": [
      "Iniciando el script...\n",
      "Usando dispositivo: cuda\n"
     ]
    }
   ],
   "source": [
    "# Configuración del dispositivo\n",
    "device = torch.device('cuda' if torch.cuda.is_available() else 'cpu')\n",
    "print(f\"Usando dispositivo: {device}\")"
   ]
  },
  {
   "cell_type": "code",
   "execution_count": 4,
   "metadata": {},
   "outputs": [
    {
     "name": "stderr",
     "output_type": "stream",
     "text": [
      "c:\\Users\\ramse\\Escritorio\\Aero Ordenador\\4to Aero\\2do Cuatri\\Repo_TFG\\ia_thermal\\ernestoemedina\\data_loader.py:16: FutureWarning: You are using `torch.load` with `weights_only=False` (the current default value), which uses the default pickle module implicitly. It is possible to construct malicious pickle data which will execute arbitrary code during unpickling (See https://github.com/pytorch/pytorch/blob/main/SECURITY.md#untrusted-models for more details). In a future release, the default value for `weights_only` will be flipped to `True`. This limits the functions that could be executed during unpickling. Arbitrary objects will no longer be allowed to be loaded via this mode unless they are explicitly allowlisted by the user via `torch.serialization.add_safe_globals`. We recommend you start setting `weights_only=True` for any use case where you don't have full control of the loaded file. Please open an issue on GitHub for any issues related to this experimental feature.\n",
      "  dataset = torch.load(file_path)\n"
     ]
    },
    {
     "name": "stdout",
     "output_type": "stream",
     "text": [
      "Dataset cargado correctamente. Número de gráficos: 20000\n",
      "Número de nodos por gráfico: 169\n"
     ]
    }
   ],
   "source": [
    "# Ruta al archivo de dataset\n",
    "file_path = 'PCB_dataset.pth'  # Asegúrate que este archivo está en la carpeta actual\n",
    "\n",
    "# Cargar el dataset y estandarizarlo automáticamente\n",
    "graphs = standardize_data(load_pcb_dataset(file_path))  # Ahora la estandarización se realiza automáticamente\n",
    "\n",
    "# Imprimir información del dataset\n",
    "print(f\"Dataset cargado correctamente. Número de gráficos: {len(graphs)}\")\n",
    "nodos_por_grafico = graphs[0].y.shape[0]  # Obtiene el número total de nodos por gráfico\n",
    "print(f\"Número de nodos por gráfico: {nodos_por_grafico}\")\n",
    "\n"
   ]
  },
  {
   "cell_type": "code",
   "execution_count": 5,
   "metadata": {},
   "outputs": [],
   "source": [
    "# División del dataset\n",
    "train_size = int(0.8 * len(graphs))\n",
    "val_size = int(0.1 * len(graphs))\n",
    "test_size = len(graphs) - train_size - val_size\n",
    "\n",
    "train_dataset = graphs[:train_size]\n",
    "val_dataset = graphs[train_size:train_size + val_size]\n",
    "test_dataset = graphs[train_size + val_size:]\n",
    "\n",
    "# Crear DataLoaders\n",
    "batch_size = 32\n",
    "train_loader = DataLoader(train_dataset, batch_size=batch_size, shuffle=True)\n",
    "val_loader = DataLoader(val_dataset, batch_size=batch_size, shuffle=False)\n",
    "test_loader = DataLoader(test_dataset, batch_size=batch_size, shuffle=False)\n"
   ]
  },
  {
   "cell_type": "code",
   "execution_count": 38,
   "metadata": {},
   "outputs": [
    {
     "name": "stdout",
     "output_type": "stream",
     "text": [
      "Modelo creado correctamente.\n"
     ]
    }
   ],
   "source": [
    "# Definición del modelo\n",
    "input_dim = 1  # Potencia como única característica de entrada\n",
    "hidden_dim = 264\n",
    "output_dim = 1  # Temperatura predicha por cada nodo\n",
    "num_layers = 3\n",
    "\n",
    "\n",
    "learning_rate = 0.001\n",
    "epochs = 10\n",
    "\n",
    "# Crear el modelo\n",
    "model = GCN(input_dim, hidden_dim, output_dim, num_layers).to(device)\n",
    "optimizer = torch.optim.Adam(model.parameters(), lr=learning_rate)\n",
    "\n",
    "print(\"Modelo creado correctamente.\")\n"
   ]
  },
  {
   "cell_type": "markdown",
   "metadata": {},
   "source": [
    "Ahora creamos un diccionario en el que metemos los parámetros de error que va a tener el modelo como referencia, tanto para el entrenamiento y validacion como para el test"
   ]
  },
  {
   "cell_type": "code",
   "execution_count": 39,
   "metadata": {},
   "outputs": [],
   "source": [
    "# Diccionario de configuración para elegir el método de evaluación\n",
    "config = {\n",
    "    \"use_percentage_threshold\": False,  # Cambia a True si quieres usar porcentaje en lugar de Kelvin\n",
    "    \"error_threshold_K\": 10.0,  # Umbral de error en Kelvin (si no se usa porcentaje)\n",
    "    \"percentage_threshold\": 5.0  # Umbral de error en porcentaje (solo se usa si 'use_percentage_threshold' es True)\n",
    "    # Ten en cuenta que el % no se mantiene al normalizar, es decir, lo que te pinta en train no es el accuracy real.\n",
    "}\n"
   ]
  },
  {
   "cell_type": "markdown",
   "metadata": {},
   "source": [
    "Ahora definimos los parámetros para guardar los modelos"
   ]
  },
  {
   "cell_type": "code",
   "execution_count": 44,
   "metadata": {},
   "outputs": [],
   "source": [
    "# Configuración para el guardado de modelo\n",
    "\n",
    "save_model_to_file = None  # Cambia a True si deseas guardar el modelo al final, ya sea el mejor o el último\n",
    "use_memory_for_best_model = True  # Cambia a True si deseas mantener el mejor modelo en memoria durante el entrenamiento\n",
    "\n",
    "best_model_state = None  # No cambiar, si se usa la opción 'use_memory_for_best_model' se guardará el mejor modelo aquí\n",
    "best_loss = float('inf')  # Mejor pérdida inicial (infinito para asegurar que se guarda el primer modelo)\n",
    "\n"
   ]
  },
  {
   "cell_type": "code",
   "execution_count": 47,
   "metadata": {},
   "outputs": [
    {
     "name": "stdout",
     "output_type": "stream",
     "text": [
      "Iniciando entrenamiento...\n",
      "Epoch 1/10 - Loss: 0.3933 - Val MSE: 0.3851 - Val MAE: 0.4888 - Val R2: 0.3533 - Val Accuracy: 34.72%\n",
      "Epoch 2/10 - Loss: 0.3933 - Val MSE: 0.3861 - Val MAE: 0.4888 - Val R2: 0.3409 - Val Accuracy: 34.73%\n",
      "Epoch 3/10 - Loss: 0.3927 - Val MSE: 0.3847 - Val MAE: 0.4885 - Val R2: 0.3566 - Val Accuracy: 34.75%\n",
      "Epoch 4/10 - Loss: 0.3941 - Val MSE: 0.3848 - Val MAE: 0.4887 - Val R2: 0.3514 - Val Accuracy: 34.71%\n",
      "Epoch 5/10 - Loss: 0.3921 - Val MSE: 0.3885 - Val MAE: 0.4895 - Val R2: 0.3743 - Val Accuracy: 34.83%\n",
      "Epoch 6/10 - Loss: 0.3921 - Val MSE: 0.3840 - Val MAE: 0.4866 - Val R2: 0.3611 - Val Accuracy: 34.94%\n",
      "Epoch 7/10 - Loss: 0.3929 - Val MSE: 0.3847 - Val MAE: 0.4881 - Val R2: 0.3677 - Val Accuracy: 34.83%\n",
      "Nuevo mejor modelo guardado en memoria con Loss: 0.3929\n",
      "Epoch 8/10 - Loss: 0.3911 - Val MSE: 0.3853 - Val MAE: 0.4848 - Val R2: 0.3586 - Val Accuracy: 35.17%\n",
      "Nuevo mejor modelo guardado en memoria con Loss: 0.3911\n",
      "Epoch 9/10 - Loss: 0.3907 - Val MSE: 0.3879 - Val MAE: 0.4903 - Val R2: 0.3260 - Val Accuracy: 34.56%\n",
      "Nuevo mejor modelo guardado en memoria con Loss: 0.3907\n",
      "Epoch 10/10 - Loss: 0.3914 - Val MSE: 0.3897 - Val MAE: 0.4892 - Val R2: 0.3752 - Val Accuracy: 34.92%\n"
     ]
    }
   ],
   "source": [
    "#Entrenamiento del modelo\n",
    "\n",
    "print(\"Iniciando entrenamiento...\")\n",
    "\n",
    "for epoch in range(epochs):\n",
    "    # Entrenamiento\n",
    "    train_loss = train(model, train_loader, optimizer, device)\n",
    "    \n",
    "    # Evaluación\n",
    "    if config[\"use_percentage_threshold\"]:\n",
    "        val_mse, val_mae, val_r2, val_accuracy = evaluate(\n",
    "            model, test_loader, device, nodos_por_grafico=nodos_por_grafico,\n",
    "            percentage_threshold=config[\"percentage_threshold\"],\n",
    "            plot_results=False,\n",
    "            normalize=True\n",
    "        )\n",
    "    else:\n",
    "        val_mse, val_mae, val_r2, val_accuracy = evaluate(\n",
    "            model, test_loader, device, nodos_por_grafico=nodos_por_grafico,\n",
    "            error_threshold=config[\"error_threshold_K\"],\n",
    "            plot_results=False,\n",
    "            normalize=True\n",
    "        )\n",
    "\n",
    "    print(f\"Epoch {epoch+1}/{epochs} - Loss: {train_loss:.4f} - Val MSE: {val_mse:.4f} - Val MAE: {val_mae:.4f} - Val R2: {val_r2:.4f} - Val Accuracy: {val_accuracy:.2f}%\")\n",
    "\n",
    "    # Guardar el mejor modelo en memoria si se ha habilitado\n",
    "    if use_memory_for_best_model and train_loss < best_loss and epoch>epochs/2:      # Meter aqui un and epoch> tal para guardar a partir de X epochs\n",
    "        best_loss = train_loss\n",
    "        if best_model_state is None: # If Para acelerar el proceso\n",
    "            best_model_state = {k: v.clone() for k, v in model.state_dict().items()} # Si no hay nada, se crea una copia completa\n",
    "        else:\n",
    "            for k, v in model.state_dict().items(): # Si ya hay algo, se actualiza\n",
    "                best_model_state[k].copy_(v) \n",
    "\n",
    "        print(f\"Nuevo mejor modelo guardado en memoria con Loss: {best_loss:.4f}\")\n"
   ]
  },
  {
   "cell_type": "code",
   "execution_count": 43,
   "metadata": {},
   "outputs": [
    {
     "name": "stdout",
     "output_type": "stream",
     "text": [
      "Evaluando en el conjunto de prueba...\n"
     ]
    },
    {
     "data": {
      "image/png": "[encoded data removed]",
      "text/plain": [
       "<Figure size 1800x600 with 6 Axes>"
      ]
     },
     "metadata": {},
     "output_type": "display_data"
    },
    {
     "name": "stdout",
     "output_type": "stream",
     "text": [
      "Test MSE: 497.8509 - Test MAE: 17.5167 - Test R2: 0.3589\n",
      "Porcentaje de nodos correctamente predichos dentro de ±10.0 K: 34.91%\n"
     ]
    }
   ],
   "source": [
    "# Evaluación en el conjunto de prueba\n",
    "print(\"Evaluando en el conjunto de prueba...\")\n",
    "\n",
    "if use_memory_for_best_model and best_model_state is not None:\n",
    "    model.load_state_dict(best_model_state)\n",
    "    print(\"Evaluando el mejor modelo encontrado en memoria...\")\n",
    "\n",
    "if config[\"use_percentage_threshold\"]:\n",
    "    test_mse, test_mae, test_r2, test_accuracy = evaluate(\n",
    "        model, test_loader, device, nodos_por_grafico=nodos_por_grafico,\n",
    "        percentage_threshold=config[\"percentage_threshold\"],\n",
    "        plot_results=True,\n",
    "        normalize=False\n",
    "    )\n",
    "else:\n",
    "    test_mse, test_mae, test_r2, test_accuracy = evaluate(\n",
    "        model, test_loader, device, nodos_por_grafico=nodos_por_grafico,\n",
    "        error_threshold=config[\"error_threshold_K\"],\n",
    "        plot_results=True,\n",
    "        normalize=False\n",
    "    )\n",
    "\n",
    "# Mostrar resultados\n",
    "print(f\"Test MSE: {test_mse:.4f} - Test MAE: {test_mae:.4f} - Test R2: {test_r2:.4f}\")\n",
    "if config[\"use_percentage_threshold\"]:\n",
    "    print(f\"Porcentaje de nodos correctamente predichos: {test_accuracy:.2f}%\")\n",
    "else:\n",
    "    print(f\"Porcentaje de nodos correctamente predichos dentro de ±{config['error_threshold_K']} K: {test_accuracy:.2f}%\")\n",
    "\n",
    "# Guardar el mejor modelo si se desea, o el último modelo si no se usa memoria\n",
    "if save_model_to_file:\n",
    "    if use_memory_for_best_model and best_model_state is not None:\n",
    "        model.load_state_dict(best_model_state)\n",
    "        print(\"Guardando el mejor modelo en archivo...\")\n",
    "    else:\n",
    "        print(\"Guardando el último modelo entrenado en archivo...\")\n",
    "\n",
    "    save_model(\n",
    "        model, num_layers=num_layers, hidden_dim=hidden_dim, \n",
    "        epochs=epochs, learning_rate=learning_rate,\n",
    "        test_mse=test_mse, test_accuracy=test_accuracy\n",
    "    )"
   ]
  },
  {
   "cell_type": "markdown",
   "metadata": {},
   "source": [
    "Si quisieramos predecir las temperaturas sin tener un target, pero si un archivo con las condiciones de contorno, compilariamos el siguiente bloque de código."
   ]
  },
  {
   "cell_type": "code",
   "execution_count": 11,
   "metadata": {},
   "outputs": [
    {
     "data": {
      "text/plain": [
       "' from train_eval import predict  # Asegúrate que la función predict() está disponible\\n\\n# Cargar las condiciones de contorno (sin target)\\nconditions = load_pcb_dataset(\\'conditions.pth\\') # Asegúrate que el archivo \\'conditions.pth\\' está en la carpeta actual\\nconditions_loader = DataLoader(conditions, batch_size=32, shuffle=False)\\n\\n# Generar predicciones\\npredictions = predict(model, conditions_loader, device, nodos_por_grafico=nodos_por_grafico, normalize=False)\\n\\n# Guardar las predicciones si lo deseas\\ntorch.save(predictions, \"Predicciones_Condiciones.pth\")\\nprint(\"Predicciones generadas y guardadas correctamente.\")\\n\\nplot_temperature_maps(predictions[0])  # Cambiar el índice si deseas visualizar otro gráfico\\n '"
      ]
     },
     "execution_count": 11,
     "metadata": {},
     "output_type": "execute_result"
    }
   ],
   "source": [
    "\"\"\" from train_eval import predict  # Asegúrate que la función predict() está disponible\n",
    "\n",
    "# Cargar las condiciones de contorno (sin target)\n",
    "conditions = load_pcb_dataset('conditions.pth') # Asegúrate que el archivo 'conditions.pth' está en la carpeta actual\n",
    "conditions_loader = DataLoader(conditions, batch_size=32, shuffle=False)\n",
    "\n",
    "# Generar predicciones\n",
    "predictions = predict(model, conditions_loader, device, nodos_por_grafico=nodos_por_grafico, normalize=False)\n",
    "\n",
    "# Guardar las predicciones si lo deseas\n",
    "torch.save(predictions, \"Predicciones_Condiciones.pth\")\n",
    "print(\"Predicciones generadas y guardadas correctamente.\")\n",
    "\n",
    "plot_temperature_maps(predictions[0])  # Cambiar el índice si deseas visualizar otro gráfico\n",
    " \"\"\"\n"
   ]
  }
 ],
 "metadata": {
  "kernelspec": {
   "display_name": "base",
   "language": "python",
   "name": "python3"
  },
  "language_info": {
   "codemirror_mode": {
    "name": "ipython",
    "version": 3
   },
   "file_extension": ".py",
   "mimetype": "text/x-python",
   "name": "python",
   "nbconvert_exporter": "python",
   "pygments_lexer": "ipython3",
   "version": "3.12.9"
  }
 },
 "nbformat": 4,
 "nbformat_minor": 4
}
